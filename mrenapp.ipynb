{
 "cells": [
  {
   "cell_type": "code",
   "execution_count": 1,
   "metadata": {},
   "outputs": [],
   "source": [
    "from flask import Flask, request, jsonify\n",
    "from flask_sqlalchemy import SQLAlchemy\n",
    "import requests\n",
    "from datetime import datetime"
   ]
  },
  {
   "cell_type": "code",
   "execution_count": 2,
   "metadata": {},
   "outputs": [],
   "source": [
    "app = Flask(__name__)\n",
    "\n",
    "# Configurations\n",
    "app.config['SQLALCHEMY_DATABASE_URI'] = 'sqlite:///transactions.db'\n",
    "app.config['SQLALCHEMY_TRACK_MODIFICATIONS'] = False\n",
    "db = SQLAlchemy(app)"
   ]
  },
  {
   "cell_type": "code",
   "execution_count": 3,
   "metadata": {},
   "outputs": [],
   "source": [
    "class Transaction(db.Model):\n",
    "    id = db.Column(db.Integer, primary_key=True)\n",
    "    title = db.Column(db.String(200), nullable=False)\n",
    "    description = db.Column(db.Text, nullable=False)\n",
    "    price = db.Column(db.Float, nullable=False)\n",
    "    sold = db.Column(db.Boolean, default=False)\n",
    "    category = db.Column(db.String(100), nullable=False)\n",
    "    dateOfSale = db.Column(db.DateTime, nullable=False)"
   ]
  },
  {
   "cell_type": "code",
   "execution_count": 4,
   "metadata": {},
   "outputs": [],
   "source": [
    "def extract_month(date):\n",
    "    return datetime.strptime(date, '%Y-%m-%d').month"
   ]
  },
  {
   "cell_type": "code",
   "execution_count": 11,
   "metadata": {},
   "outputs": [],
   "source": [
    "@app.route('/initialize_db', methods=['GET'], endpoint='initialize_database')\n",
    "def initialize_db():\n",
    "    db.create_all()  # Create the database tables\n",
    "    \n",
    "    # Fetch data from third-party API\n",
    "    response = requests.get('https://s3.amazonaws.com/roxiler.com/product_transaction.json')\n",
    "    data = response.json()\n",
    "\n",
    "    # Insert data into the database\n",
    "    for item in data:\n",
    "        transaction = Transaction(\n",
    "            title=item['title'],\n",
    "            description=item['description'],\n",
    "            price=item['price'],\n",
    "            sold=item['sold'],\n",
    "            category=item['category'],\n",
    "            dateOfSale=datetime.strptime(item['dateOfSale'], '%Y-%m-%d')\n",
    "        )\n",
    "        db.session.add(transaction)\n",
    "    db.session.commit()\n",
    "    return jsonify({\"message\": \"Database initialized and data seeded\"}), 200\n",
    "\n"
   ]
  },
  {
   "cell_type": "code",
   "execution_count": 16,
   "metadata": {},
   "outputs": [],
   "source": [
    "@app.route('/transactions', methods=['GET'])\n",
    "def list_transactions():\n",
    "    search = request.args.get('search', '')\n",
    "    page = int(request.args.get('page', 1))\n",
    "    per_page = int(request.args.get('per_page', 10))\n",
    "    \n",
    "    query = Transaction.query\n",
    "    if search:\n",
    "        query = query.filter((Transaction.title.like(f'%{search}%')) |\n",
    "                             (Transaction.description.like(f'%{search}%')) |\n",
    "                             (Transaction.price == float(search) if search.isdigit() else False))\n",
    "\n",
    "    transactions = query.paginate(page, per_page, False).items\n",
    "    result = [{\"id\": t.id, \"title\": t.title, \"description\": t.description, \"price\": t.price,\n",
    "               \"sold\": t.sold, \"category\": t.category, \"dateOfSale\": t.dateOfSale} for t in transactions]\n",
    "    \n",
    "    return jsonify(result), 200\n"
   ]
  },
  {
   "cell_type": "code",
   "execution_count": 17,
   "metadata": {},
   "outputs": [],
   "source": [
    "@app.route('/statistics', methods=['GET'])\n",
    "def get_statistics():\n",
    "    month = int(request.args.get('month'))\n",
    "    \n",
    "    transactions = Transaction.query.filter(db.extract('month', Transaction.dateOfSale) == month).all()\n",
    "    \n",
    "    total_sales = sum(t.price for t in transactions if t.sold)\n",
    "    sold_items = sum(1 for t in transactions if t.sold)\n",
    "    not_sold_items = sum(1 for t in transactions if not t.sold)\n",
    "\n",
    "    return jsonify({\n",
    "        \"total_sale_amount\": total_sales,\n",
    "        \"total_sold_items\": sold_items,\n",
    "        \"total_not_sold_items\": not_sold_items\n",
    "    }), 200\n"
   ]
  },
  {
   "cell_type": "code",
   "execution_count": 18,
   "metadata": {},
   "outputs": [],
   "source": [
    "@app.route('/barchart', methods=['GET'])\n",
    "def bar_chart():\n",
    "    month = int(request.args.get('month'))\n",
    "\n",
    "    transactions = Transaction.query.filter(db.extract('month', Transaction.dateOfSale) == month).all()\n",
    "\n",
    "    price_ranges = {\n",
    "        \"0-100\": 0, \"101-200\": 0, \"201-300\": 0, \"301-400\": 0, \"401-500\": 0,\n",
    "        \"501-600\": 0, \"601-700\": 0, \"701-800\": 0, \"801-900\": 0, \"901-above\": 0\n",
    "    }\n",
    "\n",
    "    for t in transactions:\n",
    "        price = t.price\n",
    "        if price <= 100:\n",
    "            price_ranges[\"0-100\"] += 1\n",
    "        elif price <= 200:\n",
    "            price_ranges[\"101-200\"] += 1\n",
    "        elif price <= 300:\n",
    "            price_ranges[\"201-300\"] += 1\n",
    "        elif price <= 400:\n",
    "            price_ranges[\"301-400\"] += 1\n",
    "        elif price <= 500:\n",
    "            price_ranges[\"401-500\"] += 1\n",
    "        elif price <= 600:\n",
    "            price_ranges[\"501-600\"] += 1\n",
    "        elif price <= 700:\n",
    "            price_ranges[\"601-700\"] += 1\n",
    "        elif price <= 800:\n",
    "            price_ranges[\"701-800\"] += 1\n",
    "        elif price <= 900:\n",
    "            price_ranges[\"801-900\"] += 1\n",
    "        else:\n",
    "            price_ranges[\"901-above\"] += 1\n",
    "\n",
    "    return jsonify(price_ranges), 200\n"
   ]
  },
  {
   "cell_type": "code",
   "execution_count": 19,
   "metadata": {},
   "outputs": [],
   "source": [
    "@app.route('/piechart', methods=['GET'])\n",
    "def pie_chart():\n",
    "    month = int(request.args.get('month'))\n",
    "\n",
    "    transactions = Transaction.query.filter(db.extract('month', Transaction.dateOfSale) == month).all()\n",
    "    \n",
    "    category_count = {}\n",
    "    for t in transactions:\n",
    "        if t.category in category_count:\n",
    "            category_count[t.category] += 1\n",
    "        else:\n",
    "            category_count[t.category] = 1\n",
    "\n",
    "    return jsonify(category_count), 200\n"
   ]
  },
  {
   "cell_type": "code",
   "execution_count": 20,
   "metadata": {},
   "outputs": [],
   "source": [
    "@app.route('/combined', methods=['GET'])\n",
    "def combined_response():\n",
    "    month = request.args.get('month')\n",
    "\n",
    "    statistics = get_statistics().get_json()\n",
    "    barchart = bar_chart().get_json()\n",
    "    piechart = pie_chart().get_json()\n",
    "\n",
    "    combined_data = {\n",
    "        \"statistics\": statistics,\n",
    "        \"bar_chart\": barchart,\n",
    "        \"pie_chart\": piechart\n",
    "    }\n",
    "\n",
    "    return jsonify(combined_data), 200\n"
   ]
  },
  {
   "cell_type": "code",
   "execution_count": 29,
   "metadata": {},
   "outputs": [],
   "source": [
    "if __name__ == '__name__':\n",
    "    with app.app_context():\n",
    "        db.create_all()  # Ensure database tables are created when app starts\n",
    "    app.run(debug=True)"
   ]
  },
  {
   "cell_type": "code",
   "execution_count": 27,
   "metadata": {},
   "outputs": [
    {
     "data": {
      "text/plain": [
       "<flask_cors.extension.CORS at 0x1edb52d64d0>"
      ]
     },
     "execution_count": 27,
     "metadata": {},
     "output_type": "execute_result"
    }
   ],
   "source": [
    "from flask_cors import CORS\n",
    "\n",
    "app = Flask(__name__)\n",
    "CORS(app)\n"
   ]
  },
  {
   "cell_type": "code",
   "execution_count": null,
   "metadata": {},
   "outputs": [],
   "source": []
  }
 ],
 "metadata": {
  "kernelspec": {
   "display_name": "Python 3",
   "language": "python",
   "name": "python3"
  },
  "language_info": {
   "codemirror_mode": {
    "name": "ipython",
    "version": 3
   },
   "file_extension": ".py",
   "mimetype": "text/x-python",
   "name": "python",
   "nbconvert_exporter": "python",
   "pygments_lexer": "ipython3",
   "version": "3.10.4"
  }
 },
 "nbformat": 4,
 "nbformat_minor": 2
}
